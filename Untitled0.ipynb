{
  "nbformat": 4,
  "nbformat_minor": 0,
  "metadata": {
    "colab": {
      "name": "Untitled0.ipynb",
      "provenance": [],
      "authorship_tag": "ABX9TyPUrouJOhZP6oJIQ3sezBYP",
      "include_colab_link": true
    },
    "kernelspec": {
      "name": "python3",
      "display_name": "Python 3"
    },
    "language_info": {
      "name": "python"
    }
  },
  "cells": [
    {
      "cell_type": "markdown",
      "metadata": {
        "id": "view-in-github",
        "colab_type": "text"
      },
      "source": [
        "<a href=\"https://colab.research.google.com/github/HectorAguilar1725805/Archivos-de-clase-IA-FIME/blob/main/Untitled0.ipynb\" target=\"_parent\"><img src=\"https://colab.research.google.com/assets/colab-badge.svg\" alt=\"Open In Colab\"/></a>"
      ]
    },
    {
      "cell_type": "code",
      "execution_count": 1,
      "metadata": {
        "colab": {
          "base_uri": "https://localhost:8080/"
        },
        "id": "tC1fuffLyPte",
        "outputId": "4d647fc7-f1a1-4738-c7dc-06e0a9f9e07b"
      },
      "outputs": [
        {
          "output_type": "stream",
          "name": "stdout",
          "text": [
            "Introduzca su nombre: Hector\n",
            "Hola Hector\n"
          ]
        }
      ],
      "source": [
        "nombre = input(\"Introduzca su nombre: \")\n",
        "\n",
        "if nombre in [\"Ana\",\"Juan\", \"Pedro\"]:\n",
        "  print(\"Nombre no permitido\")\n",
        "\n",
        "else:\n",
        "  print(\"Hola \" + nombre)"
      ]
    },
    {
      "cell_type": "code",
      "source": [
        "def ultimo_lista_revertida(lista):\n",
        "\n",
        "  ultimo = lista[len(lista)-1]\n",
        "  lista.reverse()\n",
        "  print(lista)\n",
        "\n",
        "  return ultimo\n",
        "\n",
        "test = [1,2,3,4,5]\n",
        "\n",
        "final = ultimo_lista_revertida(test)\n",
        "\n",
        "print(final)"
      ],
      "metadata": {
        "colab": {
          "base_uri": "https://localhost:8080/"
        },
        "id": "BDh8H8VgyRf_",
        "outputId": "d5666a13-3c39-44a2-fba2-d6c712b727b5"
      },
      "execution_count": 2,
      "outputs": [
        {
          "output_type": "stream",
          "name": "stdout",
          "text": [
            "[5, 4, 3, 2, 1]\n",
            "5\n"
          ]
        }
      ]
    },
    {
      "cell_type": "code",
      "source": [
        "texto = [\"Hola\",\"Esto\",\"Es\",\"Un\",\"Marco\"]\n",
        "\n",
        "def texto_a_marco(txt):\n",
        "  largo = len(max(txt,key=len))\n",
        "  print(\"*\"*(largo+5))\n",
        "  for palabra in txt:\n",
        "    ancho = len(palabra)\n",
        "    print(\"*\",palabra,\" \"*(largo-ancho),\"*\")\n",
        "  print(\"*\"*(largo+5))\n",
        "\n",
        "texto_a_marco(texto)"
      ],
      "metadata": {
        "colab": {
          "base_uri": "https://localhost:8080/"
        },
        "id": "NGr3ZB0x0UWd",
        "outputId": "c02dca4e-f11d-4375-97da-0931e5b1735b"
      },
      "execution_count": 10,
      "outputs": [
        {
          "output_type": "stream",
          "name": "stdout",
          "text": [
            "**********\n",
            "* Hola   *\n",
            "* Esto   *\n",
            "* Es     *\n",
            "* Un     *\n",
            "* Marco  *\n",
            "**********\n"
          ]
        }
      ]
    }
  ]
}